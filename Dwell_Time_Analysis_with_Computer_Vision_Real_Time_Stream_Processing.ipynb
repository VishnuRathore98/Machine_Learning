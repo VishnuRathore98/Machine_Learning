{
  "nbformat": 4,
  "nbformat_minor": 0,
  "metadata": {
    "colab": {
      "provenance": [],
      "gpuType": "T4",
      "mount_file_id": "1gmrURIJMpEMRJk_k8oJdQavwwF4at8TM",
      "authorship_tag": "ABX9TyMrXhLhat+rNRlSpTkw/B03",
      "include_colab_link": true
    },
    "kernelspec": {
      "name": "python3",
      "display_name": "Python 3"
    },
    "language_info": {
      "name": "python"
    },
    "accelerator": "GPU"
  },
  "cells": [
    {
      "cell_type": "markdown",
      "metadata": {
        "id": "view-in-github",
        "colab_type": "text"
      },
      "source": [
        "<a href=\"https://colab.research.google.com/github/VishnuRathore98/Machine_Learning/blob/master/Dwell_Time_Analysis_with_Computer_Vision_Real_Time_Stream_Processing.ipynb\" target=\"_parent\"><img src=\"https://colab.research.google.com/assets/colab-badge.svg\" alt=\"Open In Colab\"/></a>"
      ]
    },
    {
      "cell_type": "code",
      "execution_count": null,
      "metadata": {
        "id": "g1Td4PwTfVI-",
        "collapsed": true
      },
      "outputs": [],
      "source": [
        "!pip install -q pytube supervision opencv-python ultralytics inference"
      ]
    },
    {
      "cell_type": "code",
      "source": [
        "import pytube\n",
        "import numpy as np\n",
        "import supervision as sv\n",
        "import cv2\n",
        "import ultralytics\n",
        "from inference import get_model\n",
        "from datetime import datetime\n",
        "from google.colab.patches import cv2_imshow"
      ],
      "metadata": {
        "id": "fkgoOGWqg1yt"
      },
      "execution_count": 17,
      "outputs": []
    },
    {
      "cell_type": "code",
      "source": [
        "class FPSBasedTimer:\n",
        "  def __init__(self, fps):\n",
        "    self.fps = fps\n",
        "    self.frame_id = 0\n",
        "    self.tracker_id2frame_id = {}\n",
        "\n",
        "  def tick(self, detections):\n",
        "    self.frame_id += 1\n",
        "    times = []\n",
        "\n",
        "    for tracker_id in detections.tracker_id:\n",
        "      self.tracker_id2frame_id.setdefault(tracker_id, self.frame_id)\n",
        "\n",
        "      start_frame_id = self.tracker_id2frame_id[tracker_id]\n",
        "      time_duration = (self.frame_id - start_frame_id)/self.fps\n",
        "      times.append(time_duration)\n",
        "\n",
        "    return np.array(times)"
      ],
      "metadata": {
        "id": "Q8oFNZh4lDd6"
      },
      "execution_count": 3,
      "outputs": []
    },
    {
      "cell_type": "code",
      "source": [
        "class ClockBasedTimer:\n",
        "  def __init__(self):\n",
        "    self.tracker_id2start_time = {}\n",
        "\n",
        "  def tick(self, detections):\n",
        "    current_time = datetime.now()\n",
        "    times = []\n",
        "\n",
        "    for tracker_id in detections.tracker_id:\n",
        "      self.tracker_id2start_time.setdefault(tracker_id, current_time)\n",
        "\n",
        "      start_time =  self.tracker_id2start_time[tracker_id]\n",
        "      time_duration = (current_time - start_time).total_seconds()\n",
        "      times.append(time_duration)\n",
        "\n",
        "    return np.array(times)"
      ],
      "metadata": {
        "id": "PciJjNFChF4v"
      },
      "execution_count": 9,
      "outputs": []
    },
    {
      "cell_type": "code",
      "source": [
        "model = get_model(model_id=\"yolov8x-640\")"
      ],
      "metadata": {
        "colab": {
          "base_uri": "https://localhost:8080/"
        },
        "id": "_nDE86LhdjHJ",
        "outputId": "0c43fd5c-ff02-4543-d49b-9d896e1c7fd2"
      },
      "execution_count": 13,
      "outputs": [
        {
          "output_type": "stream",
          "name": "stderr",
          "text": [
            "UserWarning: Specified provider 'CUDAExecutionProvider' is not in available provider names.Available providers: 'AzureExecutionProvider, CPUExecutionProvider'\n",
            "UserWarning: Specified provider 'OpenVINOExecutionProvider' is not in available provider names.Available providers: 'AzureExecutionProvider, CPUExecutionProvider'\n",
            "UserWarning: Specified provider 'CoreMLExecutionProvider' is not in available provider names.Available providers: 'AzureExecutionProvider, CPUExecutionProvider'\n"
          ]
        }
      ]
    },
    {
      "cell_type": "code",
      "source": [
        "CONFIDENCE_THRESHOLD = 0.5\n",
        "IOU_THRESHOLD = 0.5\n",
        "SOURCE_VIDEO_PATH = \"/content/checkout.mp4\"\n",
        "RESULT_VIDEO_PATH = \"/content/checkout_result.mp4\"\n",
        "video_info = sv.VideoInfo.from_video_path(SOURCE_VIDEO_PATH)\n",
        "\n",
        "BOUNDING_BOX_ANNOTATOR = sv.BoxAnnotator()"
      ],
      "metadata": {
        "id": "nsdMQO3qfSqd"
      },
      "execution_count": 20,
      "outputs": []
    },
    {
      "cell_type": "code",
      "source": [
        "frame_generator = sv.get_video_frames_generator(source_path=SOURCE_VIDEO_PATH)\n",
        "with sv.VideoSink(target_path=RESULT_VIDEO_PATH, video_info=video_info) as sink:\n",
        "  for frame in frame_generator:\n",
        "    results = model.infer(frame, confidence=CONFIDENCE_THRESHOLD, iou=IOU_THRESHOLD)[0]\n",
        "    detections = sv.Detections.from_inference(results)\n",
        "\n",
        "    annotated_frame = frame.copy()\n",
        "    annotated_frame = BOUNDING_BOX_ANNOTATOR.annotate(scene = annotated_frame, detections = detections)\n",
        "\n",
        "    sink.write_frame(annotated_frame)\n",
        "# cv2_imshow(annotated_frame)\n",
        "# cv2_destroyAllWindows()"
      ],
      "metadata": {
        "id": "vIo1ivwfk7tZ"
      },
      "execution_count": null,
      "outputs": []
    },
    {
      "cell_type": "code",
      "source": [],
      "metadata": {
        "id": "Uz8aj0lCoaUI"
      },
      "execution_count": null,
      "outputs": []
    }
  ]
}