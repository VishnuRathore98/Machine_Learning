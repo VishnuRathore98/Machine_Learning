{
  "nbformat": 4,
  "nbformat_minor": 0,
  "metadata": {
    "colab": {
      "provenance": [],
      "gpuType": "T4",
      "authorship_tag": "ABX9TyOZuqDhxvCd/KhQIhQJD6vu",
      "include_colab_link": true
    },
    "kernelspec": {
      "name": "python3",
      "display_name": "Python 3"
    },
    "language_info": {
      "name": "python"
    },
    "accelerator": "GPU"
  },
  "cells": [
    {
      "cell_type": "markdown",
      "metadata": {
        "id": "view-in-github",
        "colab_type": "text"
      },
      "source": [
        "<a href=\"https://colab.research.google.com/github/VishnuRathore98/Machine_Learning/blob/master/Dwell_Time_Analysis_with_Computer_Vision_Real_Time_Stream_Processing.ipynb\" target=\"_parent\"><img src=\"https://colab.research.google.com/assets/colab-badge.svg\" alt=\"Open In Colab\"/></a>"
      ]
    },
    {
      "cell_type": "code",
      "execution_count": null,
      "metadata": {
        "id": "g1Td4PwTfVI-",
        "collapsed": true
      },
      "outputs": [],
      "source": [
        "!pip install -q pytube supervision opencv-python ultralytics inference"
      ]
    },
    {
      "cell_type": "code",
      "source": [
        "import pytube\n",
        "import supervision\n",
        "import cv2\n",
        "import ultralytics\n",
        "import inference"
      ],
      "metadata": {
        "id": "fkgoOGWqg1yt"
      },
      "execution_count": 9,
      "outputs": []
    },
    {
      "cell_type": "code",
      "source": [],
      "metadata": {
        "id": "PciJjNFChF4v"
      },
      "execution_count": null,
      "outputs": []
    }
  ]
}